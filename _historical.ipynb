{
 "cells": [
  {
   "cell_type": "code",
   "execution_count": 20,
   "id": "efcd9cd1",
   "metadata": {},
   "outputs": [],
   "source": [
    "import pandas as pd\n",
    "from datetime import datetime, timedelta"
   ]
  },
  {
   "cell_type": "code",
   "execution_count": 21,
   "id": "83cfc3a2",
   "metadata": {},
   "outputs": [],
   "source": [
    "def get_most_recent(client, symbol, interval, days):\n",
    "    '''Returns historical data'''\n",
    "\n",
    "    now = datetime.utcnow()\n",
    "    past = str(now - timedelta(days=days))\n",
    "    bars = client.get_historical_klines(symbol=symbol, interval=interval, start_str=past, end_str=None, limit=1000)\n",
    "    \n",
    "    df = pd.DataFrame(bars)\n",
    "    df['Date'] = pd.to_datetime(df.iloc[:,0], unit='ms')\n",
    "    df.columns = [\"Open Time\", \"Open\", \"High\", \"Low\", \"Close\", \"Volume\", \"Close Time\",\n",
    "              \"Quote Asset Volume\", \"Number of Trades\", \"Taker Buy Base Asset Volume\",\n",
    "              \"Taker Buy Quote Asset Volumn\", \"Ignore\", \"Date\"]\n",
    "    \n",
    "    df = df[['Date', 'Open', 'High', 'Low', 'Close', 'Volume']].copy()\n",
    "    df.set_index('Date', inplace=True)\n",
    "    \n",
    "    for c in df.columns:\n",
    "        df[c] = pd.to_numeric(df[c], errors='coerce')\n",
    "        \n",
    "    df['Complete'] = [True for row in range(len(df)-1)] + [False]\n",
    "    \n",
    "    return df"
   ]
  }
 ],
 "metadata": {
  "kernelspec": {
   "display_name": "Python 3 (ipykernel)",
   "language": "python",
   "name": "python3"
  },
  "language_info": {
   "codemirror_mode": {
    "name": "ipython",
    "version": 3
   },
   "file_extension": ".py",
   "mimetype": "text/x-python",
   "name": "python",
   "nbconvert_exporter": "python",
   "pygments_lexer": "ipython3",
   "version": "3.9.12"
  }
 },
 "nbformat": 4,
 "nbformat_minor": 5
}
