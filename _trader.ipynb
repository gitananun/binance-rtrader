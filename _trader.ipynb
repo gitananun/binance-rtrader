{
 "cells": [
  {
   "cell_type": "code",
   "execution_count": null,
   "id": "3ffff737",
   "metadata": {},
   "outputs": [],
   "source": [
    "import getpass\n",
    "import pandas as pd\n",
    "import numpy as np\n",
    "from termcolor import colored\n",
    "import import_ipynb\n",
    "import _client\n",
    "import _stream\n",
    "import _historical"
   ]
  },
  {
   "cell_type": "code",
   "execution_count": null,
   "id": "ac1b103b",
   "metadata": {},
   "outputs": [],
   "source": [
    "class Trader():\n",
    "    '''Binance Client Real Time Trader'''\n",
    "    \n",
    "    def __init__(self):\n",
    "        testnet = input('1/0 Testnet ')\n",
    "        api_key = getpass.getpass('API KEY ')\n",
    "        secret_key = getpass.getpass('API SECRET ')\n",
    "        \n",
    "        assert (api_key and secret_key and testnet), \"everything is required\"\n",
    "        \n",
    "        self.api_key = api_key\n",
    "        self.secret_key = secret_key\n",
    "        self.testnet = bool(int(testnet))\n",
    "        \n",
    "        self.__connect_client()\n",
    "        \n",
    "        self.valid_intervals = ['1m','3m','5m','15m','30m','1h','2h','4h','6h','8h','12h','1d','3d','1w','1M']\n",
    "\n",
    "    def get_historical_data(self):\n",
    "        symbol, interval = self.__ask_symbol_interval_inputs()\n",
    "        \n",
    "        days = int(input('DAYS '))\n",
    "        assert days > 0, 'DAYS is not valid'\n",
    "        \n",
    "        return _historical.get_most_recent(self.client, symbol, interval, days)\n",
    "    \n",
    "    def start_live_trading(self):\n",
    "        symbol, interval = self.__ask_symbol_interval_inputs()\n",
    "        print('Starting Live Trading...')\n",
    "        self.live_trading_options = {'symbol': symbol, 'interval': interval}\n",
    "        self.twm, self.live_data = _stream.start_kline_socket(symbol=symbol, interval=interval, cb=self.__stream_candles)\n",
    "        \n",
    "    def stop(self):\n",
    "        print('Stopping Live Trading Session...')\n",
    "        self.twm.stop()\n",
    "    \n",
    "    # PRIVATE\n",
    "    def __connect_client(self):\n",
    "        client = _client.get_client(self.api_key, self.secret_key, self.testnet)\n",
    "        assert client, 'Authentication failed!'\n",
    "        self.client = client\n",
    "    \n",
    "    def __ask_symbol_interval_inputs(self):\n",
    "        symbol = input('SYMBOL (default:BTCUSDT) ')\n",
    "        symbol = symbol or 'BTCUSDT'\n",
    "        \n",
    "        print(\"\\nValid intervals: {}\".format(self.valid_intervals))\n",
    "        interval = input('INTERVAL (default:1m) ')\n",
    "        interval = interval or '1m'\n",
    "        \n",
    "        assert interval in self.valid_intervals, 'INTERVAL is not valid'\n",
    "\n",
    "        return symbol, interval\n",
    "              \n",
    "    def __stream_candles(self, msg):\n",
    "        event_time = pd.to_datetime(msg['E'], unit='ms')\n",
    "        start_time = pd.to_datetime(msg['k']['t'], unit='ms')\n",
    "\n",
    "        first    = float(msg['k']['o'])\n",
    "        high     = float(msg['k']['h'])\n",
    "        low      = float(msg['k']['l'])\n",
    "        close    = float(msg['k']['c'])\n",
    "        volume   = float(msg['k']['v'])\n",
    "        complete =  bool(msg['k']['x'])\n",
    "\n",
    "        print(\"Indicator: {} | Time: {} | Price: {}\".format('.' if complete == False else '|', event_time, close))\n",
    "\n",
    "        self.live_data.loc[start_time] = [first, high, low, close, volume, complete]\n",
    "        \n",
    "        mean_vol = self.live_data['Volume'].mean()\n",
    "        mean_high = self.live_data['High'].mean()\n",
    "        \n",
    "        if(volume > mean_vol*1.5 and close > mean_high*1.5):\n",
    "            trading_options = self.live_trading_options\n",
    "            print('GOING LONG WITH QUANTITY 0.001...')\n",
    "            self.client.create_order(symbol=trading_options['symbol'], side='BUY', type='MARKET', quoteOrderQty=0.001)        "
   ]
  },
  {
   "cell_type": "code",
   "execution_count": null,
   "id": "97244696",
   "metadata": {},
   "outputs": [],
   "source": [
    "trader = Trader()"
   ]
  },
  {
   "cell_type": "code",
   "execution_count": null,
   "id": "4c271332",
   "metadata": {},
   "outputs": [],
   "source": [
    "trader.get_historical_data()"
   ]
  },
  {
   "cell_type": "code",
   "execution_count": null,
   "id": "04802e44",
   "metadata": {},
   "outputs": [],
   "source": [
    "trader.start_live_trading()"
   ]
  },
  {
   "cell_type": "code",
   "execution_count": null,
   "id": "13ac7eca",
   "metadata": {},
   "outputs": [],
   "source": [
    "trader.stop()"
   ]
  }
 ],
 "metadata": {
  "kernelspec": {
   "display_name": "Python 3 (ipykernel)",
   "language": "python",
   "name": "python3"
  },
  "language_info": {
   "codemirror_mode": {
    "name": "ipython",
    "version": 3
   },
   "file_extension": ".py",
   "mimetype": "text/x-python",
   "name": "python",
   "nbconvert_exporter": "python",
   "pygments_lexer": "ipython3",
   "version": "3.9.12"
  }
 },
 "nbformat": 4,
 "nbformat_minor": 5
}
