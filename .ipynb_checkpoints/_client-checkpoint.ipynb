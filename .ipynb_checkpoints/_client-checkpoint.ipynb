{
 "cells": [
  {
   "cell_type": "code",
   "execution_count": 7,
   "id": "6f940c8e",
   "metadata": {},
   "outputs": [],
   "source": [
    "from binance.client import Client\n",
    "import pandas as pd"
   ]
  },
  {
   "cell_type": "code",
   "execution_count": 11,
   "id": "98f968d2",
   "metadata": {},
   "outputs": [],
   "source": [
    "def get_client(api_key, api_secret, testnet):    \n",
    "    '''Establish a connection to Binance Client'''\n",
    "    \n",
    "    try:\n",
    "        return Client(api_key=api_key, api_secret=api_secret, tld='com', testnet=bool(int(testnet)))\n",
    "    except:\n",
    "        raise Exception(\"Client Authentication Failure!\")"
   ]
  }
 ],
 "metadata": {
  "kernelspec": {
   "display_name": "Python 3 (ipykernel)",
   "language": "python",
   "name": "python3"
  },
  "language_info": {
   "codemirror_mode": {
    "name": "ipython",
    "version": 3
   },
   "file_extension": ".py",
   "mimetype": "text/x-python",
   "name": "python",
   "nbconvert_exporter": "python",
   "pygments_lexer": "ipython3",
   "version": "3.9.12"
  }
 },
 "nbformat": 4,
 "nbformat_minor": 5
}
