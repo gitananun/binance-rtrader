{
 "cells": [
  {
   "cell_type": "code",
   "execution_count": 1,
   "id": "5ce05772",
   "metadata": {},
   "outputs": [],
   "source": [
    "from binance import ThreadedWebsocketManager\n",
    "import pandas as pd"
   ]
  },
  {
   "cell_type": "code",
   "execution_count": 2,
   "id": "0f395c2f",
   "metadata": {},
   "outputs": [],
   "source": [
    "df = pd.DataFrame(columns = ['Open', 'High', 'Low', 'Close', 'Volume', 'Complete'])"
   ]
  },
  {
   "cell_type": "code",
   "execution_count": 5,
   "id": "006191b2",
   "metadata": {},
   "outputs": [],
   "source": [
    "def stream_candles(msg):\n",
    "    '''Process streamed candles'''\n",
    "    \n",
    "    event_time = pd.to_datetime(msg['E'], unit='ms')\n",
    "    start_time = pd.to_datetime(msg['k']['t'], unit='ms')\n",
    "    \n",
    "    first    = float(msg['k']['o'])\n",
    "    high     = float(msg['k']['h'])\n",
    "    low      = float(msg['k']['l'])\n",
    "    close    = float(msg['k']['c'])\n",
    "    volume   = float(msg['k']['v'])\n",
    "    complete = bool(msg['k']['x'])\n",
    "    \n",
    "    print(\"Indicator: . | Time: {} | Price: {}\".format(event_time, close))\n",
    "    \n",
    "    df.loc[start_time] = [first, high, low, close, volume, complete]"
   ]
  },
  {
   "cell_type": "code",
   "execution_count": 6,
   "id": "6848ce88",
   "metadata": {},
   "outputs": [],
   "source": [
    "def start_kline_socket(symbol, interval, cb=stream_candles):\n",
    "    '''Starts Streaming Socket for RealTime candles'''\n",
    "    \n",
    "    twm = ThreadedWebsocketManager()\n",
    "    twm.start()\n",
    "    twm.start_kline_socket(callback=cb, symbol=symbol, interval=interval)\n",
    "    \n",
    "    return twm, df"
   ]
  }
 ],
 "metadata": {
  "kernelspec": {
   "display_name": "Python 3 (ipykernel)",
   "language": "python",
   "name": "python3"
  },
  "language_info": {
   "codemirror_mode": {
    "name": "ipython",
    "version": 3
   },
   "file_extension": ".py",
   "mimetype": "text/x-python",
   "name": "python",
   "nbconvert_exporter": "python",
   "pygments_lexer": "ipython3",
   "version": "3.9.12"
  }
 },
 "nbformat": 4,
 "nbformat_minor": 5
}
